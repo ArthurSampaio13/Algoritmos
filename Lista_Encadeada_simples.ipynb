{
  "nbformat": 4,
  "nbformat_minor": 0,
  "metadata": {
    "colab": {
      "provenance": [],
      "authorship_tag": "ABX9TyN/0MBbLxbfr3CnFyyUzTha",
      "include_colab_link": true
    },
    "kernelspec": {
      "name": "python3",
      "display_name": "Python 3"
    },
    "language_info": {
      "name": "python"
    }
  },
  "cells": [
    {
      "cell_type": "markdown",
      "metadata": {
        "id": "view-in-github",
        "colab_type": "text"
      },
      "source": [
        "<a href=\"https://colab.research.google.com/github/ArthurSampaio13/Algoritmos/blob/main/Lista_Encadeada_simples.ipynb\" target=\"_parent\"><img src=\"https://colab.research.google.com/assets/colab-badge.svg\" alt=\"Open In Colab\"/></a>"
      ]
    },
    {
      "cell_type": "code",
      "execution_count": null,
      "metadata": {
        "id": "w3JyGNL6F70K"
      },
      "outputs": [],
      "source": [
        "import numpy as np"
      ]
    },
    {
      "cell_type": "code",
      "source": [
        "class No:\n",
        "  def __init__(self, valor):\n",
        "    self.valor = valor\n",
        "    self.proximo = None\n",
        "\n",
        "  def mostra_no(self):\n",
        "    print(self.valor)"
      ],
      "metadata": {
        "id": "MaBwmDNiF_Hn"
      },
      "execution_count": null,
      "outputs": []
    },
    {
      "cell_type": "code",
      "source": [
        "class ListaEncadeada:\n",
        "  def __init__(self):\n",
        "    self.primeiro = None\n",
        "\n",
        "  def insere_inicio(self, valor):\n",
        "    novo = No(valor)\n",
        "    novo.proximo = self.primeiro\n",
        "    self.primeiro = novo\n",
        "\n",
        "  def mostrar(self):\n",
        "    atual = self.primeiro\n",
        "    while atual != None:\n",
        "      atual.mostra_no()\n",
        "      atual = atual.proximo\n",
        "\n",
        "  def excluir_inicio(self):\n",
        "    if self.primeiro == None:\n",
        "      print('Lista vazia')\n",
        "      return None\n",
        "\n",
        "    temp = self.primeiro\n",
        "\n",
        "    self.primeiro = self.primeiro.proximo\n",
        "    return temp\n",
        "\n",
        "  def pesquisa(self, valor):\n",
        "    if self.primeiro == None:\n",
        "      print('Lista vazia')\n",
        "      return None\n",
        "\n",
        "    atual = self.primeiro\n",
        "\n",
        "    while atual.valor != valor:\n",
        "      if atual.proximo == None:\n",
        "        print(\"elemento nao encontrado\")\n",
        "        return None\n",
        "\n",
        "      else:\n",
        "        atual = atual.proximo\n",
        "    return atual\n",
        "\n",
        "  def excluir(self, valor):\n",
        "    if self.primeiro == None:\n",
        "      print('Lista vazia')\n",
        "      return None\n",
        "\n",
        "    atual = self.primeiro\n",
        "    anterior = self.primeiro\n",
        "    while atual.valor != valor:\n",
        "      if atual.proximo == None:\n",
        "        return None\n",
        "      else:\n",
        "        anterior = atual\n",
        "        atual = atual.proximo\n",
        "\n",
        "    if atual == self.primeiro:\n",
        "      self.primeiro = self.primeiro.proximo\n",
        "    else:\n",
        "      anterior.proximo = atual.proximo\n",
        "    return atual"
      ],
      "metadata": {
        "id": "u4s3x2LzGOo5"
      },
      "execution_count": null,
      "outputs": []
    },
    {
      "cell_type": "code",
      "source": [
        "lista = ListaEncadeada()"
      ],
      "metadata": {
        "id": "k7g7l068H3V0"
      },
      "execution_count": null,
      "outputs": []
    },
    {
      "cell_type": "code",
      "source": [
        "lista.insere_inicio(1)"
      ],
      "metadata": {
        "id": "dlhg6_9eH5ag"
      },
      "execution_count": null,
      "outputs": []
    },
    {
      "cell_type": "code",
      "source": [
        "lista.insere_inicio(2)\n",
        "lista.mostrar()"
      ],
      "metadata": {
        "colab": {
          "base_uri": "https://localhost:8080/"
        },
        "id": "vSuReQCnH8JT",
        "outputId": "edfec53a-c267-40e7-e136-4c423762a995"
      },
      "execution_count": null,
      "outputs": [
        {
          "output_type": "stream",
          "name": "stdout",
          "text": [
            "2\n",
            "1\n"
          ]
        }
      ]
    },
    {
      "cell_type": "code",
      "source": [
        "lista.insere_inicio(3)\n",
        "lista.mostrar()"
      ],
      "metadata": {
        "colab": {
          "base_uri": "https://localhost:8080/"
        },
        "id": "M5__F32jIH6z",
        "outputId": "d9e60a43-6404-4d70-f758-949265ca3909"
      },
      "execution_count": null,
      "outputs": [
        {
          "output_type": "stream",
          "name": "stdout",
          "text": [
            "3\n",
            "2\n",
            "1\n"
          ]
        }
      ]
    },
    {
      "cell_type": "code",
      "source": [
        "lista.excluir_inicio()"
      ],
      "metadata": {
        "colab": {
          "base_uri": "https://localhost:8080/"
        },
        "id": "ygz4iF9VOZFN",
        "outputId": "7ee58919-a92b-448e-cc40-1b9f6a02733b"
      },
      "execution_count": null,
      "outputs": [
        {
          "output_type": "execute_result",
          "data": {
            "text/plain": [
              "<__main__.No at 0x7c14118582b0>"
            ]
          },
          "metadata": {},
          "execution_count": 8
        }
      ]
    },
    {
      "cell_type": "code",
      "source": [
        "lista.mostrar()"
      ],
      "metadata": {
        "colab": {
          "base_uri": "https://localhost:8080/"
        },
        "id": "zQ7FaLKtOfTR",
        "outputId": "8dbf0bee-3482-4e00-9426-e2567b28a2d4"
      },
      "execution_count": null,
      "outputs": [
        {
          "output_type": "stream",
          "name": "stdout",
          "text": [
            "1\n"
          ]
        }
      ]
    },
    {
      "cell_type": "code",
      "source": [
        "lista.insere_inicio(2)"
      ],
      "metadata": {
        "id": "h5ui6Ga2P5Hu"
      },
      "execution_count": null,
      "outputs": []
    },
    {
      "cell_type": "code",
      "source": [
        "lista.excluir(2)"
      ],
      "metadata": {
        "colab": {
          "base_uri": "https://localhost:8080/"
        },
        "id": "tbrYGLrkPY3e",
        "outputId": "4d6f5001-0807-4667-a78f-4dfbcbffad06"
      },
      "execution_count": null,
      "outputs": [
        {
          "output_type": "execute_result",
          "data": {
            "text/plain": [
              "<__main__.No at 0x7c1411858040>"
            ]
          },
          "metadata": {},
          "execution_count": 15
        }
      ]
    }
  ]
}