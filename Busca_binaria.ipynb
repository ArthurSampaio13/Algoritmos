{
  "nbformat": 4,
  "nbformat_minor": 0,
  "metadata": {
    "colab": {
      "provenance": [],
      "authorship_tag": "ABX9TyNjllq3Dvz+dVFXjqrsJW3U",
      "include_colab_link": true
    },
    "kernelspec": {
      "name": "python3",
      "display_name": "Python 3"
    },
    "language_info": {
      "name": "python"
    }
  },
  "cells": [
    {
      "cell_type": "markdown",
      "metadata": {
        "id": "view-in-github",
        "colab_type": "text"
      },
      "source": [
        "<a href=\"https://colab.research.google.com/github/ArthurSampaio13/Algoritmos/blob/main/Busca_binaria.ipynb\" target=\"_parent\"><img src=\"https://colab.research.google.com/assets/colab-badge.svg\" alt=\"Open In Colab\"/></a>"
      ]
    },
    {
      "cell_type": "code",
      "execution_count": null,
      "metadata": {
        "id": "zWbUdTpvOIkU"
      },
      "outputs": [],
      "source": [
        "def pesquisa_binaria(lista, valor):\n",
        "    limite_inferior = 0\n",
        "    limite_superior = len(lista) - 1\n",
        "    c\n",
        "    while limite_inferior <= limite_superior:\n",
        "        meio = int((limite_inferior + limite_superior) / 2)\n",
        "        chute = lista[meio]\n",
        "\n",
        "        if chute == valor:\n",
        "            return print(meio)\n",
        "\n",
        "        if chute > valor:\n",
        "            limite_superior = meio - 1\n",
        "\n",
        "        else:\n",
        "            limite_inferior = meio + 1\n",
        "    return print(-1)"
      ]
    }
  ]
}