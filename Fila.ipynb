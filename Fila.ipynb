{
  "nbformat": 4,
  "nbformat_minor": 0,
  "metadata": {
    "colab": {
      "provenance": [],
      "authorship_tag": "ABX9TyPwDcDSR+sdNlEqVlAoxCds",
      "include_colab_link": true
    },
    "kernelspec": {
      "name": "python3",
      "display_name": "Python 3"
    },
    "language_info": {
      "name": "python"
    }
  },
  "cells": [
    {
      "cell_type": "markdown",
      "metadata": {
        "id": "view-in-github",
        "colab_type": "text"
      },
      "source": [
        "<a href=\"https://colab.research.google.com/github/ArthurSampaio13/Algoritmos/blob/main/Fila.ipynb\" target=\"_parent\"><img src=\"https://colab.research.google.com/assets/colab-badge.svg\" alt=\"Open In Colab\"/></a>"
      ]
    },
    {
      "cell_type": "code",
      "execution_count": null,
      "metadata": {
        "id": "Oc_RfRcM3SJT"
      },
      "outputs": [],
      "source": [
        "import numpy as np"
      ]
    },
    {
      "cell_type": "code",
      "source": [
        "class FilaCircular:\n",
        "  def __init__(self, capacidade):\n",
        "    self.__capacidade = capacidade\n",
        "    self.__inicio = 0\n",
        "    self.__final = -1\n",
        "    self.__numero_elementos = 0\n",
        "    self.__valores = np.empty(self.__capacidade, dtype=int)\n",
        "\n",
        "  def __fila_vazia(self):\n",
        "    return self.__numero_elementos == 0\n",
        "\n",
        "  def __fila_cheia(self):\n",
        "    return self.__numero_elementos == self.__capacidade\n",
        "\n",
        "  def enfileirar(self, valor):\n",
        "    if self.__fila_cheia():\n",
        "      print(\"A fila esta cheia\")\n",
        "      return\n",
        "\n",
        "    if self.__final == self.__capacidade - 1:\n",
        "      self.__final = -1\n",
        "    self.__final += 1\n",
        "    self.__valores[self.__final] = valor\n",
        "    self.__numero_elementos += 1\n",
        "\n",
        "  def desenfileirar(self):\n",
        "    if self.__fila_vazia():\n",
        "      print(\"A fila ja esta vazia\")\n",
        "      return\n",
        "\n",
        "    temp = self.__valores[self.__inicio]\n",
        "    self.__inicio += 1\n",
        "    if self.__inicio == self.__capacidade:\n",
        "      self.__inicio = 0\n",
        "    self.__numero_elementos -= 1\n",
        "    return temp\n",
        "\n",
        "  def primeiro(self):\n",
        "    if self.__fila_vazia():\n",
        "      return -1\n",
        "    return self.__valores[self.__inicio]\n",
        "\n",
        "  def ver_elementos(self):\n",
        "    for valor in self.__valores:\n",
        "      print(valor)"
      ],
      "metadata": {
        "id": "djjwshl756b1"
      },
      "execution_count": null,
      "outputs": []
    },
    {
      "cell_type": "code",
      "source": [
        "fila = FilaCircular(5)"
      ],
      "metadata": {
        "id": "rrok2ji975do"
      },
      "execution_count": null,
      "outputs": []
    },
    {
      "cell_type": "code",
      "source": [
        "fila.primeiro()"
      ],
      "metadata": {
        "colab": {
          "base_uri": "https://localhost:8080/"
        },
        "id": "jeNptDDu77f2",
        "outputId": "61d6e896-839c-44ae-d120-2177fd522fe8"
      },
      "execution_count": null,
      "outputs": [
        {
          "output_type": "execute_result",
          "data": {
            "text/plain": [
              "-1"
            ]
          },
          "metadata": {},
          "execution_count": 43
        }
      ]
    },
    {
      "cell_type": "code",
      "source": [
        "fila.enfileirar(5)\n",
        "fila.primeiro()"
      ],
      "metadata": {
        "colab": {
          "base_uri": "https://localhost:8080/"
        },
        "id": "Uw9R75M-8Gik",
        "outputId": "9e3d2817-97d2-43e4-e378-de5c78c7113b"
      },
      "execution_count": null,
      "outputs": [
        {
          "output_type": "execute_result",
          "data": {
            "text/plain": [
              "5"
            ]
          },
          "metadata": {},
          "execution_count": 44
        }
      ]
    },
    {
      "cell_type": "code",
      "source": [
        "fila.enfileirar(45)\n",
        "fila.primeiro()"
      ],
      "metadata": {
        "colab": {
          "base_uri": "https://localhost:8080/"
        },
        "id": "B7QnaoHW8KlB",
        "outputId": "a86da2be-78b0-48fa-e529-0e2c9777b288"
      },
      "execution_count": null,
      "outputs": [
        {
          "output_type": "execute_result",
          "data": {
            "text/plain": [
              "5"
            ]
          },
          "metadata": {},
          "execution_count": 45
        }
      ]
    },
    {
      "cell_type": "code",
      "source": [
        "fila.enfileirar(35)\n",
        "fila.primeiro()"
      ],
      "metadata": {
        "colab": {
          "base_uri": "https://localhost:8080/"
        },
        "id": "75KI7PBd8jVS",
        "outputId": "49bde15e-44c4-4e28-aae4-bf6b3d6964d7"
      },
      "execution_count": null,
      "outputs": [
        {
          "output_type": "execute_result",
          "data": {
            "text/plain": [
              "5"
            ]
          },
          "metadata": {},
          "execution_count": 46
        }
      ]
    },
    {
      "cell_type": "code",
      "source": [
        "fila.desenfileirar()\n",
        "fila.primeiro()"
      ],
      "metadata": {
        "colab": {
          "base_uri": "https://localhost:8080/"
        },
        "id": "pYBnuoXI8kzO",
        "outputId": "d532ccc4-e6bd-4f31-fb6a-ca45f394b2d6"
      },
      "execution_count": null,
      "outputs": [
        {
          "output_type": "execute_result",
          "data": {
            "text/plain": [
              "45"
            ]
          },
          "metadata": {},
          "execution_count": 47
        }
      ]
    },
    {
      "cell_type": "code",
      "source": [
        "fila.ver_elementos()"
      ],
      "metadata": {
        "id": "rEuTQcfk9axa",
        "outputId": "2ad8860f-cec1-4bac-80d8-6cf4a65d8bd4",
        "colab": {
          "base_uri": "https://localhost:8080/"
        }
      },
      "execution_count": null,
      "outputs": [
        {
          "output_type": "stream",
          "name": "stdout",
          "text": [
            "5\n",
            "45\n",
            "35\n",
            "7959390389041327986\n",
            "48\n"
          ]
        }
      ]
    }
  ]
}