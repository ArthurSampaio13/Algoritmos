{
  "nbformat": 4,
  "nbformat_minor": 0,
  "metadata": {
    "colab": {
      "provenance": [],
      "authorship_tag": "ABX9TyMr/3QRDaAQh9MykGx2VWyf",
      "include_colab_link": true
    },
    "kernelspec": {
      "name": "python3",
      "display_name": "Python 3"
    },
    "language_info": {
      "name": "python"
    }
  },
  "cells": [
    {
      "cell_type": "markdown",
      "metadata": {
        "id": "view-in-github",
        "colab_type": "text"
      },
      "source": [
        "<a href=\"https://colab.research.google.com/github/ArthurSampaio13/Algoritmos/blob/main/Pilha.ipynb\" target=\"_parent\"><img src=\"https://colab.research.google.com/assets/colab-badge.svg\" alt=\"Open In Colab\"/></a>"
      ]
    },
    {
      "cell_type": "code",
      "execution_count": null,
      "metadata": {
        "id": "6jOShcOjBWqn"
      },
      "outputs": [],
      "source": [
        "import numpy as np\n",
        "\n",
        "class Pilha:\n",
        "    def __init__(self, capacidade):\n",
        "        self.__capacidade = capacidade\n",
        "        self.__topo = -1\n",
        "        self.__valores = np.empty(self.__capacidade, dtype=int)\n",
        "\n",
        "    def __pilha_cheia(self):\n",
        "        if self.__topo == self.__capacidade - 1:\n",
        "            return True\n",
        "        return False\n",
        "\n",
        "    def __pilha_vazia(self):\n",
        "        if self.__topo == -1:\n",
        "            return True\n",
        "        return False\n",
        "\n",
        "    def empilhar(self, valor):\n",
        "        if self.__pilha_cheia():\n",
        "            print(\"Pilha cheia\")\n",
        "        else:\n",
        "            self.__topo += 1\n",
        "            self.__valores[self.__topo] = valor\n",
        "\n",
        "    def desempilhar(self):\n",
        "        if self.__pilha_vazia():\n",
        "            print(\"Pilha esta vazia\")\n",
        "        else:\n",
        "            self.__topo -= 1\n",
        "\n",
        "    def ver_topo(self):\n",
        "        if self.__topo != -1:\n",
        "            return print(self.__valores[self.__topo])\n",
        "        else:\n",
        "            return -1"
      ]
    }
  ]
}