{
  "nbformat": 4,
  "nbformat_minor": 0,
  "metadata": {
    "colab": {
      "provenance": [],
      "authorship_tag": "ABX9TyMpkIHICgf4E7Vy36tB88wq",
      "include_colab_link": true
    },
    "kernelspec": {
      "name": "python3",
      "display_name": "Python 3"
    },
    "language_info": {
      "name": "python"
    }
  },
  "cells": [
    {
      "cell_type": "markdown",
      "metadata": {
        "id": "view-in-github",
        "colab_type": "text"
      },
      "source": [
        "<a href=\"https://colab.research.google.com/github/ArthurSampaio13/Algoritmos/blob/main/Insertion_sort.ipynb\" target=\"_parent\"><img src=\"https://colab.research.google.com/assets/colab-badge.svg\" alt=\"Open In Colab\"/></a>"
      ]
    },
    {
      "cell_type": "code",
      "execution_count": null,
      "metadata": {
        "id": "t1GOrVpAMHy2"
      },
      "outputs": [],
      "source": [
        "def insertion_sort(vetor):\n",
        "  n = len(vetor)\n",
        "\n",
        "  for i in range(1, n):\n",
        "    marcado = vetor[i]\n",
        "\n",
        "    j = i - 1\n",
        "    while j >= 0 and marcado < vetor[j]:\n",
        "      vetor[j + 1] = vetor[j]\n",
        "      j -= 1\n",
        "\n",
        "    vetor[j + 1] = marcado\n",
        "  return vetor"
      ]
    }
  ]
}
